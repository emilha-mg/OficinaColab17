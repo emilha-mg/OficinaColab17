{
  "nbformat": 4,
  "nbformat_minor": 0,
  "metadata": {
    "colab": {
      "provenance": [],
      "include_colab_link": true
    },
    "kernelspec": {
      "name": "python3",
      "display_name": "Python 3"
    },
    "language_info": {
      "name": "python"
    }
  },
  "cells": [
    {
      "cell_type": "markdown",
      "metadata": {
        "id": "view-in-github",
        "colab_type": "text"
      },
      "source": [
        "<a href=\"https://colab.research.google.com/github/emilha-mg/OficinaColab17/blob/main/Exerc%C3%ADcio_Final_sabado.ipynb\" target=\"_parent\"><img src=\"https://colab.research.google.com/assets/colab-badge.svg\" alt=\"Open In Colab\"/></a>"
      ]
    },
    {
      "cell_type": "markdown",
      "source": [
        "# Contagem de Medalhas\n",
        "\n",
        "Crie um programa que receba o número de medalhas de ouro, prata e bronze de um país nas Olimpíadas e calcule o total de medalhas.\n",
        "Quando escrever 'sair', o programa deverá encerrar e mostrar na tela o ranking de medalhas no formato:"
      ],
      "metadata": {
        "id": "RQN1e5FZY6SZ"
      }
    },
    {
      "cell_type": "code",
      "source": [
        "#Ranking de medalhas:\n",
        "#Brasil: 7 medalhas\n",
        "#França: 6 medalhas\n",
        "#Argentina: 3 medalhas"
      ],
      "metadata": {
        "id": "gCq_KLHzZSzb"
      },
      "execution_count": null,
      "outputs": []
    },
    {
      "cell_type": "code",
      "execution_count": 16,
      "metadata": {
        "id": "AJJhjxiPTd5s",
        "colab": {
          "base_uri": "https://localhost:8080/"
        },
        "outputId": "12298d3c-f923-4730-ee30-bfca04644619"
      },
      "outputs": [
        {
          "output_type": "stream",
          "name": "stdout",
          "text": [
            "Digite o nome do país (ou \"sair\" para encerrar): Brasil\n",
            "Digite o número de medalhas de ouro: 3\n",
            "Digite o número de medalhas de prata: 7\n",
            "Digite o número de medalhas de bronze: 10\n",
            "Digite o nome do país (ou \"sair\" para encerrar): Ucrania\n",
            "Digite o número de medalhas de ouro: 3\n",
            "Digite o número de medalhas de prata: 5\n",
            "Digite o número de medalhas de bronze: 4\n",
            "Digite o nome do país (ou \"sair\" para encerrar): Dinamarca\n",
            "Digite o número de medalhas de ouro: 2\n",
            "Digite o número de medalhas de prata: 2\n",
            "Digite o número de medalhas de bronze: 5\n",
            "Digite o nome do país (ou \"sair\" para encerrar): sair\n",
            "\n",
            "Ranking de medalhas:\n",
            "sair: 9 medalhas\n"
          ]
        }
      ],
      "source": [
        "# Resposta aqui\n",
        "medalhas = []\n",
        "\n",
        "while True:\n",
        "\n",
        "  medalhaPais = input('Digite o nome do país (ou \"sair\" para encerrar): ')\n",
        "  if medalhaPais in ['sair', 'SAIR', 'Sair']:\n",
        "    break\n",
        "  else:\n",
        "    medalhaOuro = int(input('Digite o número de medalhas de ouro: '))\n",
        "    medalhaPrata = int(input('Digite o número de medalhas de prata: '))\n",
        "    medalhaBronze = int(input('Digite o número de medalhas de bronze: '))\n",
        "\n",
        "totalMedalhas = medalhaOuro + medalhaPrata + medalhaBronze\n",
        "\n",
        "medalhas.append({\n",
        "  'país': medalhaPais,\n",
        "  'ouro': medalhaOuro,\n",
        "  'prata': medalhaPrata,\n",
        "  'bronze': medalhaBronze,\n",
        "  'total': totalMedalhas\n",
        "})\n",
        "\n",
        "medalhas.sort(key=lambda x: x['total'], reverse=True)\n",
        "\n",
        "print(\"\\nRanking de medalhas:\")\n",
        "for pais in medalhas:\n",
        "    print(f\"{pais['país']}: {pais['total']} medalhas\")"
      ]
    }
  ]
}